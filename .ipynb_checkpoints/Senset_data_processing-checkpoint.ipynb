{
 "cells": [
  {
   "cell_type": "code",
   "execution_count": 7,
   "metadata": {},
   "outputs": [],
   "source": [
    "import numpy as np\n",
    "import pandas as pd\n",
    "import xlrd"
   ]
  },
  {
   "cell_type": "code",
   "execution_count": 45,
   "metadata": {},
   "outputs": [],
   "source": [
    "xls = pd.ExcelFile(r'C:\\Users\\Yang\\Documents\\RBES work\\Projects&study\\Sensors\\Reference\\SoundingTable\\soundingTable.xlsx')\n",
    "heel = pd.read_excel(xls, 'heel')\n",
    "trim = pd.read_excel(xls, 'trim')"
   ]
  },
  {
   "cell_type": "code",
   "execution_count": 46,
   "metadata": {},
   "outputs": [
    {
     "data": {
      "text/plain": [
       "'trim 1a\\nheel 5p\\n.u_snd2\\ntrim 1a\\nheel 4.5p\\n.u_snd2\\ntrim 1a\\nheel 4p\\n.u_snd2\\ntrim 1a\\nheel 3.5p\\n.u_snd2\\ntrim 1a\\nheel 3p\\n.u_snd2\\ntrim 1a\\nheel 2.5p\\n.u_snd2\\ntrim 1a\\nheel 2p\\n.u_snd2\\ntrim 1a\\nheel 1.5p\\n.u_snd2\\ntrim 1a\\nheel 1p\\n.u_snd2\\ntrim 1a\\nheel 0.5p\\n.u_snd2\\ntrim 1a\\nheel 0p\\n.u_snd2\\ntrim 1a\\nheel 0.5s\\n.u_snd2\\ntrim 1a\\nheel 1s\\n.u_snd2\\ntrim 1a\\nheel 1.5s\\n.u_snd2\\ntrim 1a\\nheel 2s\\n.u_snd2\\ntrim 1a\\nheel 2.5s\\n.u_snd2\\ntrim 1a\\nheel 3s\\n.u_snd2\\ntrim 1a\\nheel 3.5s\\n.u_snd2\\ntrim 1a\\nheel 4s\\n.u_snd2\\ntrim 1a\\nheel 4.5s\\n.u_snd2\\ntrim 1a\\nheel 5s\\n.u_snd2\\ntrim 0.5a\\nheel 5p\\n.u_snd2\\ntrim 0.5a\\nheel 4.5p\\n.u_snd2\\ntrim 0.5a\\nheel 4p\\n.u_snd2\\ntrim 0.5a\\nheel 3.5p\\n.u_snd2\\ntrim 0.5a\\nheel 3p\\n.u_snd2\\ntrim 0.5a\\nheel 2.5p\\n.u_snd2\\ntrim 0.5a\\nheel 2p\\n.u_snd2\\ntrim 0.5a\\nheel 1.5p\\n.u_snd2\\ntrim 0.5a\\nheel 1p\\n.u_snd2\\ntrim 0.5a\\nheel 0.5p\\n.u_snd2\\ntrim 0.5a\\nheel 0p\\n.u_snd2\\ntrim 0.5a\\nheel 0.5s\\n.u_snd2\\ntrim 0.5a\\nheel 1s\\n.u_snd2\\ntrim 0.5a\\nheel 1.5s\\n.u_snd2\\ntrim 0.5a\\nheel 2s\\n.u_snd2\\ntrim 0.5a\\nheel 2.5s\\n.u_snd2\\ntrim 0.5a\\nheel 3s\\n.u_snd2\\ntrim 0.5a\\nheel 3.5s\\n.u_snd2\\ntrim 0.5a\\nheel 4s\\n.u_snd2\\ntrim 0.5a\\nheel 4.5s\\n.u_snd2\\ntrim 0.5a\\nheel 5s\\n.u_snd2\\ntrim 0a\\nheel 5p\\n.u_snd2\\ntrim 0a\\nheel 4.5p\\n.u_snd2\\ntrim 0a\\nheel 4p\\n.u_snd2\\ntrim 0a\\nheel 3.5p\\n.u_snd2\\ntrim 0a\\nheel 3p\\n.u_snd2\\ntrim 0a\\nheel 2.5p\\n.u_snd2\\ntrim 0a\\nheel 2p\\n.u_snd2\\ntrim 0a\\nheel 1.5p\\n.u_snd2\\ntrim 0a\\nheel 1p\\n.u_snd2\\ntrim 0a\\nheel 0.5p\\n.u_snd2\\ntrim 0a\\nheel 0p\\n.u_snd2\\ntrim 0a\\nheel 0.5s\\n.u_snd2\\ntrim 0a\\nheel 1s\\n.u_snd2\\ntrim 0a\\nheel 1.5s\\n.u_snd2\\ntrim 0a\\nheel 2s\\n.u_snd2\\ntrim 0a\\nheel 2.5s\\n.u_snd2\\ntrim 0a\\nheel 3s\\n.u_snd2\\ntrim 0a\\nheel 3.5s\\n.u_snd2\\ntrim 0a\\nheel 4s\\n.u_snd2\\ntrim 0a\\nheel 4.5s\\n.u_snd2\\ntrim 0a\\nheel 5s\\n.u_snd2\\ntrim 0.5f\\nheel 5p\\n.u_snd2\\ntrim 0.5f\\nheel 4.5p\\n.u_snd2\\ntrim 0.5f\\nheel 4p\\n.u_snd2\\ntrim 0.5f\\nheel 3.5p\\n.u_snd2\\ntrim 0.5f\\nheel 3p\\n.u_snd2\\ntrim 0.5f\\nheel 2.5p\\n.u_snd2\\ntrim 0.5f\\nheel 2p\\n.u_snd2\\ntrim 0.5f\\nheel 1.5p\\n.u_snd2\\ntrim 0.5f\\nheel 1p\\n.u_snd2\\ntrim 0.5f\\nheel 0.5p\\n.u_snd2\\ntrim 0.5f\\nheel 0p\\n.u_snd2\\ntrim 0.5f\\nheel 0.5s\\n.u_snd2\\ntrim 0.5f\\nheel 1s\\n.u_snd2\\ntrim 0.5f\\nheel 1.5s\\n.u_snd2\\ntrim 0.5f\\nheel 2s\\n.u_snd2\\ntrim 0.5f\\nheel 2.5s\\n.u_snd2\\ntrim 0.5f\\nheel 3s\\n.u_snd2\\ntrim 0.5f\\nheel 3.5s\\n.u_snd2\\ntrim 0.5f\\nheel 4s\\n.u_snd2\\ntrim 0.5f\\nheel 4.5s\\n.u_snd2\\ntrim 0.5f\\nheel 5s\\n.u_snd2\\ntrim 1f\\nheel 5p\\n.u_snd2\\ntrim 1f\\nheel 4.5p\\n.u_snd2\\ntrim 1f\\nheel 4p\\n.u_snd2\\ntrim 1f\\nheel 3.5p\\n.u_snd2\\ntrim 1f\\nheel 3p\\n.u_snd2\\ntrim 1f\\nheel 2.5p\\n.u_snd2\\ntrim 1f\\nheel 2p\\n.u_snd2\\ntrim 1f\\nheel 1.5p\\n.u_snd2\\ntrim 1f\\nheel 1p\\n.u_snd2\\ntrim 1f\\nheel 0.5p\\n.u_snd2\\ntrim 1f\\nheel 0p\\n.u_snd2\\ntrim 1f\\nheel 0.5s\\n.u_snd2\\ntrim 1f\\nheel 1s\\n.u_snd2\\ntrim 1f\\nheel 1.5s\\n.u_snd2\\ntrim 1f\\nheel 2s\\n.u_snd2\\ntrim 1f\\nheel 2.5s\\n.u_snd2\\ntrim 1f\\nheel 3s\\n.u_snd2\\ntrim 1f\\nheel 3.5s\\n.u_snd2\\ntrim 1f\\nheel 4s\\n.u_snd2\\ntrim 1f\\nheel 4.5s\\n.u_snd2\\ntrim 1f\\nheel 5s\\n.u_snd2\\n'"
      ]
     },
     "execution_count": 46,
     "metadata": {},
     "output_type": "execute_result"
    }
   ],
   "source": [
    "macro = \"\"\n",
    "for index_t, t in trim.iterrows():\n",
    "    for index_h,h in heel.iterrows():\n",
    "        macro += t[2]+'\\n'+ h[2]+'\\n'+\".u_snd2\"+'\\n'\n",
    "macro        \n",
    "        "
   ]
  },
  {
   "cell_type": "code",
   "execution_count": 47,
   "metadata": {},
   "outputs": [],
   "source": [
    "with open(r'C:\\Users\\Yang\\Documents\\RBES work\\Projects&study\\Sensors\\Reference\\SoundingTable\\test.csv','w') as f:\n",
    "    f.write(macro)"
   ]
  },
  {
   "cell_type": "markdown",
   "metadata": {},
   "source": [
    "### Senset.dat"
   ]
  },
  {
   "cell_type": "code",
   "execution_count": 89,
   "metadata": {},
   "outputs": [],
   "source": [
    "with open(r'C:\\Users\\Yang\\Documents\\RBES work\\Projects&study\\Sensors\\Reference\\GLM_Info\\senset.csv','r') as f:\n",
    "    senset = f.readlines()"
   ]
  },
  {
   "cell_type": "code",
   "execution_count": 90,
   "metadata": {},
   "outputs": [],
   "source": [
    "senset_series = pd.Series(senset)"
   ]
  },
  {
   "cell_type": "code",
   "execution_count": 91,
   "metadata": {},
   "outputs": [
    {
     "data": {
      "text/plain": [
       "'VARIABLE (ST) SENS_ID1 = 178>378\\n'"
      ]
     },
     "execution_count": 91,
     "metadata": {},
     "output_type": "execute_result"
    }
   ],
   "source": [
    "senset_series[0]"
   ]
  },
  {
   "cell_type": "code",
   "execution_count": 92,
   "metadata": {},
   "outputs": [],
   "source": [
    "import re\n",
    "def get_text(string,pattern,n):\n",
    "    result = re.search(pattern,string)\n",
    "    if result:\n",
    "        return result.group(n)\n",
    "    return ''"
   ]
  },
  {
   "cell_type": "code",
   "execution_count": 132,
   "metadata": {},
   "outputs": [],
   "source": [
    "#Extract sensor ID. \n",
    "ID_pattern = 'SENS_ID\\d+\\s={1}\\s([0-9]{3})(>[0-9]{3}){0,1}'\n",
    "ID_sequence = senset_series.apply(lambda x:get_text(x,ID_pattern,1))"
   ]
  },
  {
   "cell_type": "code",
   "execution_count": 133,
   "metadata": {},
   "outputs": [
    {
     "data": {
      "text/plain": [
       "pandas.core.series.Series"
      ]
     },
     "execution_count": 133,
     "metadata": {},
     "output_type": "execute_result"
    }
   ],
   "source": [
    "type(ID_sequence)"
   ]
  },
  {
   "cell_type": "code",
   "execution_count": 134,
   "metadata": {},
   "outputs": [],
   "source": [
    "senset_df = pd.DataFrame({\"senset.dat\":senset_series,\"ID_sequence\":ID_sequence})"
   ]
  },
  {
   "cell_type": "code",
   "execution_count": 135,
   "metadata": {},
   "outputs": [
    {
     "data": {
      "text/html": [
       "<div>\n",
       "<style scoped>\n",
       "    .dataframe tbody tr th:only-of-type {\n",
       "        vertical-align: middle;\n",
       "    }\n",
       "\n",
       "    .dataframe tbody tr th {\n",
       "        vertical-align: top;\n",
       "    }\n",
       "\n",
       "    .dataframe thead th {\n",
       "        text-align: right;\n",
       "    }\n",
       "</style>\n",
       "<table border=\"1\" class=\"dataframe\">\n",
       "  <thead>\n",
       "    <tr style=\"text-align: right;\">\n",
       "      <th></th>\n",
       "      <th>ID_sequence</th>\n",
       "      <th>senset.dat</th>\n",
       "    </tr>\n",
       "  </thead>\n",
       "  <tbody>\n",
       "    <tr>\n",
       "      <th>0</th>\n",
       "      <td>178</td>\n",
       "      <td>VARIABLE (ST) SENS_ID1 = 178&gt;378\\n</td>\n",
       "    </tr>\n",
       "    <tr>\n",
       "      <th>1</th>\n",
       "      <td></td>\n",
       "      <td>VARIABLE (ST) SENS_T1 = TFW0806\\n</td>\n",
       "    </tr>\n",
       "    <tr>\n",
       "      <th>2</th>\n",
       "      <td></td>\n",
       "      <td>VARIABLE SENS_DEF1 = 2\\n</td>\n",
       "    </tr>\n",
       "    <tr>\n",
       "      <th>3</th>\n",
       "      <td></td>\n",
       "      <td>VARIABLE SENS_TU1 = 4\\n</td>\n",
       "    </tr>\n",
       "    <tr>\n",
       "      <th>4</th>\n",
       "      <td></td>\n",
       "      <td>VARIABLE (ST) SENS_LID1 = 178&gt;378\\n</td>\n",
       "    </tr>\n",
       "    <tr>\n",
       "      <th>5</th>\n",
       "      <td></td>\n",
       "      <td>VARIABLE (LE) SENS_LL1 = -159.49\\n</td>\n",
       "    </tr>\n",
       "    <tr>\n",
       "      <th>6</th>\n",
       "      <td></td>\n",
       "      <td>VARIABLE (LE) SENS_LT1 = 1.28\\n</td>\n",
       "    </tr>\n",
       "    <tr>\n",
       "      <th>7</th>\n",
       "      <td></td>\n",
       "      <td>VARIABLE (LE) SENS_LV1 = 0.05\\n</td>\n",
       "    </tr>\n",
       "    <tr>\n",
       "      <th>8</th>\n",
       "      <td></td>\n",
       "      <td>VARIABLE SENS_TUX1 = 0\\n</td>\n",
       "    </tr>\n",
       "    <tr>\n",
       "      <th>9</th>\n",
       "      <td></td>\n",
       "      <td>VARIABLE (ST) SENS_IDT1 = 178&gt;378\\n</td>\n",
       "    </tr>\n",
       "    <tr>\n",
       "      <th>10</th>\n",
       "      <td></td>\n",
       "      <td>VARIABLE (ST) SENS_TT1 = TFW0806\\n</td>\n",
       "    </tr>\n",
       "    <tr>\n",
       "      <th>11</th>\n",
       "      <td>130</td>\n",
       "      <td>VARIABLE (ST) SENS_ID2 = 130&gt;330\\n</td>\n",
       "    </tr>\n",
       "    <tr>\n",
       "      <th>12</th>\n",
       "      <td></td>\n",
       "      <td>VARIABLE (ST) SENS_T2 = MIS0819\\n</td>\n",
       "    </tr>\n",
       "    <tr>\n",
       "      <th>13</th>\n",
       "      <td></td>\n",
       "      <td>VARIABLE SENS_DEF2 = 2\\n</td>\n",
       "    </tr>\n",
       "    <tr>\n",
       "      <th>14</th>\n",
       "      <td></td>\n",
       "      <td>VARIABLE SENS_TU2 = 4\\n</td>\n",
       "    </tr>\n",
       "    <tr>\n",
       "      <th>15</th>\n",
       "      <td></td>\n",
       "      <td>VARIABLE (ST) SENS_LID2 = 130&gt;330\\n</td>\n",
       "    </tr>\n",
       "    <tr>\n",
       "      <th>16</th>\n",
       "      <td></td>\n",
       "      <td>VARIABLE (LE) SENS_LL2 = -177.1\\n</td>\n",
       "    </tr>\n",
       "    <tr>\n",
       "      <th>17</th>\n",
       "      <td></td>\n",
       "      <td>VARIABLE (LE) SENS_LT2 = 6.57\\n</td>\n",
       "    </tr>\n",
       "    <tr>\n",
       "      <th>18</th>\n",
       "      <td></td>\n",
       "      <td>VARIABLE (LE) SENS_LV2 = 3.64\\n</td>\n",
       "    </tr>\n",
       "    <tr>\n",
       "      <th>19</th>\n",
       "      <td></td>\n",
       "      <td>VARIABLE SENS_TUX2 = 0\\n</td>\n",
       "    </tr>\n",
       "    <tr>\n",
       "      <th>20</th>\n",
       "      <td></td>\n",
       "      <td>VARIABLE (ST) SENS_IDT2 = 130&gt;330\\n</td>\n",
       "    </tr>\n",
       "    <tr>\n",
       "      <th>21</th>\n",
       "      <td></td>\n",
       "      <td>VARIABLE (ST) SENS_TT2 = MIS0819\\n</td>\n",
       "    </tr>\n",
       "  </tbody>\n",
       "</table>\n",
       "</div>"
      ],
      "text/plain": [
       "   ID_sequence                           senset.dat\n",
       "0          178   VARIABLE (ST) SENS_ID1 = 178>378\\n\n",
       "1                 VARIABLE (ST) SENS_T1 = TFW0806\\n\n",
       "2                          VARIABLE SENS_DEF1 = 2\\n\n",
       "3                           VARIABLE SENS_TU1 = 4\\n\n",
       "4               VARIABLE (ST) SENS_LID1 = 178>378\\n\n",
       "5                VARIABLE (LE) SENS_LL1 = -159.49\\n\n",
       "6                   VARIABLE (LE) SENS_LT1 = 1.28\\n\n",
       "7                   VARIABLE (LE) SENS_LV1 = 0.05\\n\n",
       "8                          VARIABLE SENS_TUX1 = 0\\n\n",
       "9               VARIABLE (ST) SENS_IDT1 = 178>378\\n\n",
       "10               VARIABLE (ST) SENS_TT1 = TFW0806\\n\n",
       "11         130   VARIABLE (ST) SENS_ID2 = 130>330\\n\n",
       "12                VARIABLE (ST) SENS_T2 = MIS0819\\n\n",
       "13                         VARIABLE SENS_DEF2 = 2\\n\n",
       "14                          VARIABLE SENS_TU2 = 4\\n\n",
       "15              VARIABLE (ST) SENS_LID2 = 130>330\\n\n",
       "16                VARIABLE (LE) SENS_LL2 = -177.1\\n\n",
       "17                  VARIABLE (LE) SENS_LT2 = 6.57\\n\n",
       "18                  VARIABLE (LE) SENS_LV2 = 3.64\\n\n",
       "19                         VARIABLE SENS_TUX2 = 0\\n\n",
       "20              VARIABLE (ST) SENS_IDT2 = 130>330\\n\n",
       "21               VARIABLE (ST) SENS_TT2 = MIS0819\\n"
      ]
     },
     "execution_count": 135,
     "metadata": {},
     "output_type": "execute_result"
    }
   ],
   "source": [
    "senset_df.head(22)"
   ]
  },
  {
   "cell_type": "code",
   "execution_count": 136,
   "metadata": {},
   "outputs": [
    {
     "data": {
      "text/html": [
       "<div>\n",
       "<style scoped>\n",
       "    .dataframe tbody tr th:only-of-type {\n",
       "        vertical-align: middle;\n",
       "    }\n",
       "\n",
       "    .dataframe tbody tr th {\n",
       "        vertical-align: top;\n",
       "    }\n",
       "\n",
       "    .dataframe thead th {\n",
       "        text-align: right;\n",
       "    }\n",
       "</style>\n",
       "<table border=\"1\" class=\"dataframe\">\n",
       "  <thead>\n",
       "    <tr style=\"text-align: right;\">\n",
       "      <th></th>\n",
       "      <th>ID_sequence</th>\n",
       "      <th>senset.dat</th>\n",
       "    </tr>\n",
       "  </thead>\n",
       "  <tbody>\n",
       "    <tr>\n",
       "      <th>0</th>\n",
       "      <td>178</td>\n",
       "      <td>178</td>\n",
       "    </tr>\n",
       "    <tr>\n",
       "      <th>1</th>\n",
       "      <td></td>\n",
       "      <td>VARIABLE (ST) SENS_T1 = TFW0806\\n</td>\n",
       "    </tr>\n",
       "    <tr>\n",
       "      <th>2</th>\n",
       "      <td></td>\n",
       "      <td>VARIABLE SENS_DEF1 = 2\\n</td>\n",
       "    </tr>\n",
       "    <tr>\n",
       "      <th>3</th>\n",
       "      <td></td>\n",
       "      <td>VARIABLE SENS_TU1 = 4\\n</td>\n",
       "    </tr>\n",
       "    <tr>\n",
       "      <th>4</th>\n",
       "      <td></td>\n",
       "      <td>VARIABLE (ST) SENS_LID1 = 178&gt;378\\n</td>\n",
       "    </tr>\n",
       "  </tbody>\n",
       "</table>\n",
       "</div>"
      ],
      "text/plain": [
       "  ID_sequence                           senset.dat\n",
       "0         178                                  178\n",
       "1                VARIABLE (ST) SENS_T1 = TFW0806\\n\n",
       "2                         VARIABLE SENS_DEF1 = 2\\n\n",
       "3                          VARIABLE SENS_TU1 = 4\\n\n",
       "4              VARIABLE (ST) SENS_LID1 = 178>378\\n"
      ]
     },
     "execution_count": 136,
     "metadata": {},
     "output_type": "execute_result"
    }
   ],
   "source": [
    "for index, row in senset_df.iterrows():\n",
    "    if row[0]!= \"\":\n",
    "        row[1]=row[0]\n",
    "senset_df.head()        "
   ]
  },
  {
   "cell_type": "markdown",
   "metadata": {},
   "source": [
    "#### Construct a reshaped dataframe"
   ]
  },
  {
   "cell_type": "code",
   "execution_count": 137,
   "metadata": {},
   "outputs": [],
   "source": [
    "ID_sequence_list = ID_sequence.tolist()"
   ]
  },
  {
   "cell_type": "code",
   "execution_count": 138,
   "metadata": {},
   "outputs": [
    {
     "data": {
      "text/plain": [
       "['178', '130', '131', '123', '112', '110', '124', '125', '100', '101']"
      ]
     },
     "execution_count": 138,
     "metadata": {},
     "output_type": "execute_result"
    }
   ],
   "source": [
    "ID_sequence_unique = [x for x in ID_sequence_list if x!=\"\"]         \n",
    "ID_sequence_unique[:10]"
   ]
  },
  {
   "cell_type": "code",
   "execution_count": 139,
   "metadata": {},
   "outputs": [
    {
     "data": {
      "text/html": [
       "<div>\n",
       "<style scoped>\n",
       "    .dataframe tbody tr th:only-of-type {\n",
       "        vertical-align: middle;\n",
       "    }\n",
       "\n",
       "    .dataframe tbody tr th {\n",
       "        vertical-align: top;\n",
       "    }\n",
       "\n",
       "    .dataframe thead th {\n",
       "        text-align: right;\n",
       "    }\n",
       "</style>\n",
       "<table border=\"1\" class=\"dataframe\">\n",
       "  <thead>\n",
       "    <tr style=\"text-align: right;\">\n",
       "      <th></th>\n",
       "      <th>Tankname</th>\n",
       "      <th>x</th>\n",
       "      <th>y</th>\n",
       "      <th>z</th>\n",
       "    </tr>\n",
       "  </thead>\n",
       "  <tbody>\n",
       "    <tr>\n",
       "      <th>178</th>\n",
       "      <td>NaN</td>\n",
       "      <td>NaN</td>\n",
       "      <td>NaN</td>\n",
       "      <td>NaN</td>\n",
       "    </tr>\n",
       "    <tr>\n",
       "      <th>130</th>\n",
       "      <td>NaN</td>\n",
       "      <td>NaN</td>\n",
       "      <td>NaN</td>\n",
       "      <td>NaN</td>\n",
       "    </tr>\n",
       "    <tr>\n",
       "      <th>131</th>\n",
       "      <td>NaN</td>\n",
       "      <td>NaN</td>\n",
       "      <td>NaN</td>\n",
       "      <td>NaN</td>\n",
       "    </tr>\n",
       "    <tr>\n",
       "      <th>123</th>\n",
       "      <td>NaN</td>\n",
       "      <td>NaN</td>\n",
       "      <td>NaN</td>\n",
       "      <td>NaN</td>\n",
       "    </tr>\n",
       "    <tr>\n",
       "      <th>112</th>\n",
       "      <td>NaN</td>\n",
       "      <td>NaN</td>\n",
       "      <td>NaN</td>\n",
       "      <td>NaN</td>\n",
       "    </tr>\n",
       "  </tbody>\n",
       "</table>\n",
       "</div>"
      ],
      "text/plain": [
       "    Tankname    x    y    z\n",
       "178      NaN  NaN  NaN  NaN\n",
       "130      NaN  NaN  NaN  NaN\n",
       "131      NaN  NaN  NaN  NaN\n",
       "123      NaN  NaN  NaN  NaN\n",
       "112      NaN  NaN  NaN  NaN"
      ]
     },
     "execution_count": 139,
     "metadata": {},
     "output_type": "execute_result"
    }
   ],
   "source": [
    "## Construct a dataframe with these ID\n",
    "senset_df_reshape = pd.DataFrame(index=ID_sequence_unique,columns=[\"Tankname\",\"x\",\"y\",\"z\"])\n",
    "senset_df_reshape.head()"
   ]
  },
  {
   "cell_type": "markdown",
   "metadata": {},
   "source": [
    "##### Get Tank name, x, y, z info from senset.dat"
   ]
  },
  {
   "cell_type": "code",
   "execution_count": 140,
   "metadata": {},
   "outputs": [],
   "source": [
    "def get_unique(my_series):\n",
    "    my_series_list = my_series.tolist()\n",
    "    my_series_unique = [x for x in my_series_list if x!=\"\"]\n",
    "    return my_series_unique  "
   ]
  },
  {
   "cell_type": "code",
   "execution_count": 141,
   "metadata": {},
   "outputs": [],
   "source": [
    "# Extract Tankname\n",
    "tankname_pattern = 'TT[0-9]+\\s=\\s(.+)'\n",
    "tankname = senset_series.apply(lambda x:get_text(x,tankname_pattern,1))"
   ]
  },
  {
   "cell_type": "code",
   "execution_count": 143,
   "metadata": {},
   "outputs": [],
   "source": [
    "senset_df_reshape[\"Tankname\"] = get_unique(tankname)"
   ]
  },
  {
   "cell_type": "code",
   "execution_count": 146,
   "metadata": {},
   "outputs": [
    {
     "data": {
      "text/html": [
       "<div>\n",
       "<style scoped>\n",
       "    .dataframe tbody tr th:only-of-type {\n",
       "        vertical-align: middle;\n",
       "    }\n",
       "\n",
       "    .dataframe tbody tr th {\n",
       "        vertical-align: top;\n",
       "    }\n",
       "\n",
       "    .dataframe thead th {\n",
       "        text-align: right;\n",
       "    }\n",
       "</style>\n",
       "<table border=\"1\" class=\"dataframe\">\n",
       "  <thead>\n",
       "    <tr style=\"text-align: right;\">\n",
       "      <th></th>\n",
       "      <th>Tankname</th>\n",
       "      <th>x</th>\n",
       "      <th>y</th>\n",
       "      <th>z</th>\n",
       "    </tr>\n",
       "  </thead>\n",
       "  <tbody>\n",
       "    <tr>\n",
       "      <th>178</th>\n",
       "      <td>TFW0806</td>\n",
       "      <td>NaN</td>\n",
       "      <td>NaN</td>\n",
       "      <td>NaN</td>\n",
       "    </tr>\n",
       "    <tr>\n",
       "      <th>130</th>\n",
       "      <td>MIS0819</td>\n",
       "      <td>NaN</td>\n",
       "      <td>NaN</td>\n",
       "      <td>NaN</td>\n",
       "    </tr>\n",
       "    <tr>\n",
       "      <th>131</th>\n",
       "      <td>MIS0821</td>\n",
       "      <td>NaN</td>\n",
       "      <td>NaN</td>\n",
       "      <td>NaN</td>\n",
       "    </tr>\n",
       "    <tr>\n",
       "      <th>123</th>\n",
       "      <td>MIS0807</td>\n",
       "      <td>NaN</td>\n",
       "      <td>NaN</td>\n",
       "      <td>NaN</td>\n",
       "    </tr>\n",
       "    <tr>\n",
       "      <th>112</th>\n",
       "      <td>DO0907</td>\n",
       "      <td>NaN</td>\n",
       "      <td>NaN</td>\n",
       "      <td>NaN</td>\n",
       "    </tr>\n",
       "  </tbody>\n",
       "</table>\n",
       "</div>"
      ],
      "text/plain": [
       "    Tankname    x    y    z\n",
       "178  TFW0806  NaN  NaN  NaN\n",
       "130  MIS0819  NaN  NaN  NaN\n",
       "131  MIS0821  NaN  NaN  NaN\n",
       "123  MIS0807  NaN  NaN  NaN\n",
       "112   DO0907  NaN  NaN  NaN"
      ]
     },
     "execution_count": 146,
     "metadata": {},
     "output_type": "execute_result"
    }
   ],
   "source": [
    "senset_df_reshape.head()"
   ]
  },
  {
   "cell_type": "code",
   "execution_count": 158,
   "metadata": {},
   "outputs": [],
   "source": [
    "#Extract x,y,z\n",
    "x_pattern = 'LL[0-9]+\\s=\\s(.{0,1}[0-9]+\\.{0,1}[0-9]+)'\n",
    "y_pattern = 'LT[0-9]+\\s=\\s(.{0,1}[0-9]+\\.{0,1}[0-9]+)'\n",
    "z_pattern = 'LV[0-9]+\\s=\\s(.{0,1}[0-9]+\\.{0,1}[0-9]*)'\n",
    "x = senset_series.apply(lambda x:get_text(x,x_pattern,1))\n",
    "y = senset_series.apply(lambda x:get_text(x,y_pattern,1))\n",
    "z = senset_series.apply(lambda x:get_text(x,z_pattern,1))"
   ]
  },
  {
   "cell_type": "code",
   "execution_count": 159,
   "metadata": {},
   "outputs": [
    {
     "data": {
      "text/plain": [
       "127"
      ]
     },
     "execution_count": 159,
     "metadata": {},
     "output_type": "execute_result"
    }
   ],
   "source": [
    "len(get_unique(z))"
   ]
  },
  {
   "cell_type": "code",
   "execution_count": 160,
   "metadata": {},
   "outputs": [],
   "source": [
    "senset_df_reshape['x'] = get_unique(x)\n",
    "senset_df_reshape['y'] = get_unique(y)\n",
    "senset_df_reshape['z'] = get_unique(z)"
   ]
  },
  {
   "cell_type": "code",
   "execution_count": 162,
   "metadata": {},
   "outputs": [
    {
     "data": {
      "text/html": [
       "<div>\n",
       "<style scoped>\n",
       "    .dataframe tbody tr th:only-of-type {\n",
       "        vertical-align: middle;\n",
       "    }\n",
       "\n",
       "    .dataframe tbody tr th {\n",
       "        vertical-align: top;\n",
       "    }\n",
       "\n",
       "    .dataframe thead th {\n",
       "        text-align: right;\n",
       "    }\n",
       "</style>\n",
       "<table border=\"1\" class=\"dataframe\">\n",
       "  <thead>\n",
       "    <tr style=\"text-align: right;\">\n",
       "      <th></th>\n",
       "      <th>Tankname</th>\n",
       "      <th>x</th>\n",
       "      <th>y</th>\n",
       "      <th>z</th>\n",
       "    </tr>\n",
       "  </thead>\n",
       "  <tbody>\n",
       "    <tr>\n",
       "      <th>178</th>\n",
       "      <td>TFW0806</td>\n",
       "      <td>-159.49</td>\n",
       "      <td>1.28</td>\n",
       "      <td>0.05</td>\n",
       "    </tr>\n",
       "    <tr>\n",
       "      <th>130</th>\n",
       "      <td>MIS0819</td>\n",
       "      <td>-177.1</td>\n",
       "      <td>6.57</td>\n",
       "      <td>3.64</td>\n",
       "    </tr>\n",
       "    <tr>\n",
       "      <th>131</th>\n",
       "      <td>MIS0821</td>\n",
       "      <td>-175.43</td>\n",
       "      <td>6.53</td>\n",
       "      <td>3.16</td>\n",
       "    </tr>\n",
       "    <tr>\n",
       "      <th>123</th>\n",
       "      <td>MIS0807</td>\n",
       "      <td>-161.23</td>\n",
       "      <td>-0.22</td>\n",
       "      <td>0.05</td>\n",
       "    </tr>\n",
       "    <tr>\n",
       "      <th>112</th>\n",
       "      <td>DO0907</td>\n",
       "      <td>-184.64</td>\n",
       "      <td>-15.07</td>\n",
       "      <td>17.02</td>\n",
       "    </tr>\n",
       "  </tbody>\n",
       "</table>\n",
       "</div>"
      ],
      "text/plain": [
       "    Tankname        x       y      z\n",
       "178  TFW0806  -159.49    1.28   0.05\n",
       "130  MIS0819   -177.1    6.57   3.64\n",
       "131  MIS0821  -175.43    6.53   3.16\n",
       "123  MIS0807  -161.23   -0.22   0.05\n",
       "112   DO0907  -184.64  -15.07  17.02"
      ]
     },
     "execution_count": 162,
     "metadata": {},
     "output_type": "execute_result"
    }
   ],
   "source": [
    "senset_df_reshape.head()"
   ]
  },
  {
   "cell_type": "code",
   "execution_count": 161,
   "metadata": {},
   "outputs": [],
   "source": [
    "senset_df_reshape.to_csv(r\"C:\\Users\\Yang\\Documents\\RBES work\\Projects&study\\Sensors\\Reference\\GLM_Info\\Senset_YC.csv\")"
   ]
  },
  {
   "cell_type": "code",
   "execution_count": null,
   "metadata": {},
   "outputs": [],
   "source": []
  },
  {
   "cell_type": "code",
   "execution_count": null,
   "metadata": {},
   "outputs": [],
   "source": []
  },
  {
   "cell_type": "code",
   "execution_count": null,
   "metadata": {},
   "outputs": [],
   "source": []
  },
  {
   "cell_type": "code",
   "execution_count": null,
   "metadata": {},
   "outputs": [],
   "source": []
  },
  {
   "cell_type": "code",
   "execution_count": null,
   "metadata": {},
   "outputs": [],
   "source": []
  }
 ],
 "metadata": {
  "kernelspec": {
   "display_name": "Python 3",
   "language": "python",
   "name": "python3"
  },
  "language_info": {
   "codemirror_mode": {
    "name": "ipython",
    "version": 3
   },
   "file_extension": ".py",
   "mimetype": "text/x-python",
   "name": "python",
   "nbconvert_exporter": "python",
   "pygments_lexer": "ipython3",
   "version": "3.6.0"
  }
 },
 "nbformat": 4,
 "nbformat_minor": 2
}
